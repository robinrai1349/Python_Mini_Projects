{
 "cells": [
  {
   "cell_type": "markdown",
   "id": "f85f11dc",
   "metadata": {},
   "source": [
    "<small><small>Project by Robin Rai. Full project list @ **[GitHub](https://github.com/users/robinrai1349/projects/)**</small></small>"
   ]
  },
  {
   "cell_type": "markdown",
   "id": "ec62c49d",
   "metadata": {},
   "source": [
    "# Web Scraping a Dynamic Website displaying World Population Statistics\n",
    "\n",
    "***[Worldometer](https://www.worldometers.info/world-population/)*** is a website that displays live information on the world population and also includes other statistics such as the number of births/deaths today and within the current year so far.\n",
    "\n",
    "WebDriver will be used from the free open-source Selenium library to fetch the dynamic contents of the website."
   ]
  },
  {
   "cell_type": "code",
   "execution_count": 1,
   "id": "9bdf6c76",
   "metadata": {},
   "outputs": [],
   "source": [
    "# Import the required modules\n",
    "from selenium import webdriver\n",
    "import pandas as pd"
   ]
  },
  {
   "cell_type": "code",
   "execution_count": 2,
   "id": "b2bcdc4b",
   "metadata": {},
   "outputs": [],
   "source": [
    "# URL of Worldometer for world population, births, deaths, etc...\n",
    "url = \"https://www.worldometers.info/world-population/\"\n",
    "\n",
    "# Labels for the data entries to be extracted:\n",
    "labels = [\"Current World Population\", \"Births today\",  \"Deaths today\", \"Population Growth today\",\n",
    "         \"Births this year\", \"Deaths this year\", \"Population Growth this year\"]"
   ]
  },
  {
   "cell_type": "markdown",
   "id": "ebc0802d",
   "metadata": {},
   "source": [
    "As the website is Dynamic, my fix for the occurence of a Stale Element Reference error is an allocated number of retry attempts given. This is the most robust idea that came to mind at the given time."
   ]
  },
  {
   "cell_type": "code",
   "execution_count": 3,
   "id": "a9c90b5a",
   "metadata": {},
   "outputs": [],
   "source": [
    "# Number of retry attempts given (more retries = higher certainty)\n",
    "retries = 100"
   ]
  },
  {
   "cell_type": "code",
   "execution_count": 4,
   "id": "a5e03a99",
   "metadata": {
    "scrolled": true
   },
   "outputs": [],
   "source": [
    "# Initialise WebDriver (Will be using the Chrome browser)\n",
    "driver = webdriver.Chrome()\n",
    "\n",
    "# Navigate to the specified website\n",
    "driver.get(url)"
   ]
  },
  {
   "cell_type": "markdown",
   "id": "8cff56da",
   "metadata": {},
   "source": [
    "## Extracting and Storing the data"
   ]
  },
  {
   "cell_type": "code",
   "execution_count": 5,
   "id": "1404508d",
   "metadata": {},
   "outputs": [],
   "source": [
    "# Python list (will hold the data)\n",
    "data = []"
   ]
  },
  {
   "cell_type": "code",
   "execution_count": 6,
   "id": "c77d3e55",
   "metadata": {},
   "outputs": [
    {
     "name": "stdout",
     "output_type": "stream",
     "text": [
      "Current World Population: 8,067,021,077\n",
      "Births today: 302,494\n",
      "Retrying (1/100)...\n",
      "Deaths today: 136,876\n",
      "Population Growth today: 165,618\n",
      "Births this year: 106,239,831\n",
      "Deaths this year: 48,072,401\n",
      "Population Growth this year: 58,167,430\n"
     ]
    }
   ],
   "source": [
    "try:\n",
    "    # implicity wait time to allow for dynamic page loading\n",
    "    driver.implicitly_wait(10)\n",
    "    \n",
    "    # Find all the stat counters on the page\n",
    "    entries = driver.find_elements(\"css selector\", \"span.rts-counter\")\n",
    "    \n",
    "    # Iterate through the labels and retry mechanism for each entry\n",
    "    for i in range(len(labels)):\n",
    "        \n",
    "        for retry in range(retries): # Loop based on number of retries specified at the start\n",
    "            \n",
    "            # Find the elements that are fragments of the whole entry\n",
    "            entry_fragments = entries[i].find_elements(\"css selector\", \"span.rts-nr-int\")\n",
    "            \n",
    "            try:\n",
    "                # Concatenate text from the entry fragments\n",
    "                complete_num = ','.join(fragment.text for fragment in entry_fragments)\n",
    "                \n",
    "                # Add data to Python list\n",
    "                data.append(complete_num)\n",
    "                \n",
    "                print(\"{}: {}\".format(labels[i], complete_num))\n",
    "                break # Successful extraction, exit the retry loop\n",
    "                \n",
    "            except Exception as e:\n",
    "                # Handle exceptions (e.g., StaleElementReferenceException) and retry\n",
    "                print(\"Retrying ({}/{})...\".format(retry + 1, retries))\n",
    "                \n",
    "except Exception as e:\n",
    "    # Handle any exceptions that occurred during the web scraping process\n",
    "    print(\"Error occurred:\", str(e))\n",
    "                                 \n",
    "finally:\n",
    "    # Ensure the WebDriver is closed properly, regardless of success or failure\n",
    "    driver.quit()"
   ]
  },
  {
   "cell_type": "markdown",
   "id": "e9ea91f2",
   "metadata": {},
   "source": [
    "## Exporting the data"
   ]
  },
  {
   "cell_type": "code",
   "execution_count": 7,
   "id": "a999941c",
   "metadata": {},
   "outputs": [
    {
     "data": {
      "text/html": [
       "<div>\n",
       "<style scoped>\n",
       "    .dataframe tbody tr th:only-of-type {\n",
       "        vertical-align: middle;\n",
       "    }\n",
       "\n",
       "    .dataframe tbody tr th {\n",
       "        vertical-align: top;\n",
       "    }\n",
       "\n",
       "    .dataframe thead th {\n",
       "        text-align: right;\n",
       "    }\n",
       "</style>\n",
       "<table border=\"1\" class=\"dataframe\">\n",
       "  <thead>\n",
       "    <tr style=\"text-align: right;\">\n",
       "      <th></th>\n",
       "      <th>World Population Statistics</th>\n",
       "    </tr>\n",
       "  </thead>\n",
       "  <tbody>\n",
       "    <tr>\n",
       "      <th>Current World Population</th>\n",
       "      <td>8,067,021,077</td>\n",
       "    </tr>\n",
       "    <tr>\n",
       "      <th>Births today</th>\n",
       "      <td>302,494</td>\n",
       "    </tr>\n",
       "    <tr>\n",
       "      <th>Deaths today</th>\n",
       "      <td>136,876</td>\n",
       "    </tr>\n",
       "    <tr>\n",
       "      <th>Population Growth today</th>\n",
       "      <td>165,618</td>\n",
       "    </tr>\n",
       "    <tr>\n",
       "      <th>Births this year</th>\n",
       "      <td>106,239,831</td>\n",
       "    </tr>\n",
       "    <tr>\n",
       "      <th>Deaths this year</th>\n",
       "      <td>48,072,401</td>\n",
       "    </tr>\n",
       "    <tr>\n",
       "      <th>Population Growth this year</th>\n",
       "      <td>58,167,430</td>\n",
       "    </tr>\n",
       "  </tbody>\n",
       "</table>\n",
       "</div>"
      ],
      "text/plain": [
       "                            World Population Statistics\n",
       "Current World Population                  8,067,021,077\n",
       "Births today                                    302,494\n",
       "Deaths today                                    136,876\n",
       "Population Growth today                         165,618\n",
       "Births this year                            106,239,831\n",
       "Deaths this year                             48,072,401\n",
       "Population Growth this year                  58,167,430"
      ]
     },
     "execution_count": 7,
     "metadata": {},
     "output_type": "execute_result"
    }
   ],
   "source": [
    "# Create dataframe\n",
    "df = pd.DataFrame({\"World Population Statistics\": data})\n",
    "\n",
    "# Label columns accordingly (using label list from earlier)\n",
    "df.index = [labels]\n",
    "\n",
    "# Preview\n",
    "df"
   ]
  },
  {
   "cell_type": "code",
   "execution_count": 8,
   "id": "f9427979",
   "metadata": {},
   "outputs": [],
   "source": [
    "# Name file and export\n",
    "df.to_csv('World_Population_data.csv')"
   ]
  },
  {
   "cell_type": "code",
   "execution_count": null,
   "id": "7277fb36",
   "metadata": {},
   "outputs": [],
   "source": []
  }
 ],
 "metadata": {
  "kernelspec": {
   "display_name": "Python 3 (ipykernel)",
   "language": "python",
   "name": "python3"
  },
  "language_info": {
   "codemirror_mode": {
    "name": "ipython",
    "version": 3
   },
   "file_extension": ".py",
   "mimetype": "text/x-python",
   "name": "python",
   "nbconvert_exporter": "python",
   "pygments_lexer": "ipython3",
   "version": "3.9.13"
  }
 },
 "nbformat": 4,
 "nbformat_minor": 5
}
